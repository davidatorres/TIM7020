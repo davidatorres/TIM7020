{
 "cells": [
  {
   "cell_type": "code",
   "execution_count": 1,
   "metadata": {},
   "outputs": [],
   "source": [
    "import os\n",
    "import warnings\n",
    "warnings.filterwarnings('ignore')\n",
    "\n",
    "from dotenv import load_dotenv\n",
    "load_dotenv()\n",
    "\n",
    "import pandas as pd\n",
    "import numpy as np\n",
    "import matplotlib.pyplot as plt\n",
    "import glob\n",
    "\n",
    "\n",
    "import mysql.connector as mysql\n",
    "from mysql.connector import sqlError\n",
    "from sqlalchemy import create_engine as dbengine\n"
   ]
  },
  {
   "cell_type": "code",
   "execution_count": 3,
   "metadata": {},
   "outputs": [],
   "source": [
    "def create_dbconnection():\n",
    "    try:\n",
    "        db = mysql.connect(host=os.getenv('MYSQL_SERVER'),\n",
    "                            database=os.getenv('MYSQL_DATABASE'),\n",
    "                            user=os.getenv('MYSQL_USER'),\n",
    "                            password=os.getenv('MYSQL_PASSWORD'))\n",
    "        print(\"Connection established\")\n",
    "        return db, db.cursor()\n",
    "    except sqlError.Error as e:\n",
    "        if e.errno == sqlError.ER_ACCESS_DENIED_ERROR:\n",
    "            print(\"Something is wrong with your user name or password\")\n",
    "            return None\n",
    "        elif e.errno == sqlError.ER_BAD_DB_ERROR:\n",
    "            print(\"Database does not exist\")\n",
    "            return None\n",
    "        else:\n",
    "            print(err)\n",
    "            return None\n",
    "    else:\n",
    "        return None"
   ]
  },
  {
   "cell_type": "code",
   "execution_count": 5,
   "metadata": {},
   "outputs": [],
   "source": [
    "def execute_dbquery(db, cursor, query):\n",
    "    try:\n",
    "        cursor.execute(query)\n",
    "        db.commit()\n",
    "        print('Query executed successfully')\n",
    "    except sqlError.Error as e:\n",
    "        print(f\"Failed creating database with query: {query} - Error: {err}\")\n",
    "        exit(1)\n"
   ]
  },
  {
   "cell_type": "code",
   "execution_count": 7,
   "metadata": {},
   "outputs": [],
   "source": [
    "### Create the list of tables to be created in the database\n",
    "df_dictionary = pd.read_excel('@dictionary.xlsx', sheet_name='Tables21')\n",
    "tableNames = df_dictionary['TIM7020TableName'].unique().tolist()\n",
    "tableNames = [x for x in tableNames if str(x) != 'nan']\n",
    "### For each tableName, create a table in the database\n",
    "for tableName in tableNames:\n",
    "    createQuery = f'CREATE TABLE IF NOT EXISTS {tableName} (ipeds_id INTEGER)'\n",
    "    cursor.execute(createQuery)\n",
    "\n"
   ]
  },
  {
   "cell_type": "code",
   "execution_count": 16,
   "metadata": {},
   "outputs": [],
   "source": [
    "### For each tableName, drop table from the database\n",
    "# for tableName in tableNames:\n",
    "#     createQuery = f'DROP TABLE IF EXISTS {tableName}'\n",
    "#     cursor.execute(createQuery)"
   ]
  },
  {
   "cell_type": "code",
   "execution_count": 15,
   "metadata": {},
   "outputs": [
    {
     "name": "stdout",
     "output_type": "stream",
     "text": [
      "('inst_ic_directory', 'HD2021')\n",
      "('inst_ic_response_flags', 'FLAGS2021')\n",
      "('inst_ic_offerings', 'IC2021')\n",
      "('inst_ic_academic_charges', 'IC2021_AY')\n",
      "('inst_ic_vocational_charges', 'IC2021_PY')\n",
      "(nan, 'DRVIC2021')\n",
      "(nan, 'IC2021MISSION')\n",
      "(nan, 'CUSTOMCGIDS2021')\n",
      "('inst_adm_considerations', 'ADM2021')\n",
      "(nan, 'DRVADM2021')\n",
      "('inst_fy_enroll_headcount', 'EFFY2021')\n",
      "('inst_fy_enroll_contact', 'EFIA2021')\n",
      "('inst_fy_enroll_dist', 'EFFY2021_DIST')\n",
      "(nan, 'DRVEF122021')\n",
      "('inst_f21_enroll_gender', 'EF2021')\n",
      "('inst_f21_enroll_race_gender', 'EF2021A')\n",
      "(nan, 'EFxxxxCP')\n",
      "('inst_f21_enroll_age_gender', 'EF2021B')\n",
      "('inst_f21_y1_residence', 'EF2021C')\n",
      "('inst_f21_y1_retention', 'EF2021D')\n",
      "('inst_f21_dist', 'EF2021A_DIST')\n",
      "(nan, 'DRVEF2021')\n",
      "(nan, 'DRVC2021')\n",
      "('inst_comp_conf_race_gender', 'C2021_A')\n",
      "('inst_comp_award_race_gender', 'C2021_B')\n",
      "('inst_comp_award_race_gender_age', 'C2021_C')\n",
      "('inst_comp_dist', 'C2021DEP')\n",
      "('inst_aid_students', 'SFA2021_P1')\n",
      "('inst_aid_price', 'SFA2021_P2')\n",
      "('inst_aid_benefits', 'SFAV2021')\n",
      "('inst_gr_gt2yr', 'GR2021')\n",
      "('inst_gr_lt2yr', 'GR2021_L2')\n",
      "('inst_gr_grants_loans', 'GR2021_PELL_SSL')\n",
      "('inst_gr_gt2yr_200pct', 'GR200_21')\n",
      "(nan, 'DRVGR2021')\n",
      "('inst_outcome_measures', 'OM2021')\n",
      "(nan, 'DRVOM2021')\n",
      "('inst_fin_public', 'F2021_F1A')\n",
      "('inst_fin_not_for_profit', 'F2021_F2')\n",
      "('inst_fin_for_profit', 'F2021_F3')\n",
      "(nan, 'DRVF2021')\n",
      "('inst_hr_salaries', 'SAL2021_NIS')\n",
      "('inst_hr_occupations', 'EAP2021')\n",
      "('inst_hr_salaries_gender_rank', 'SAL2021_IS')\n",
      "('inst_hr_occupations_race_gender', 'S2021_OC')\n",
      "('inst_hr_fte_rank_tenure', 'S2021_SIS')\n",
      "('inst_hr_fte_rank_tenure_race_gender', 'S2021_IS')\n",
      "('inst_hr_newhires_occupations_race_gender', 'S2021_NH')\n",
      "(nan, 'DRVHR2021')\n",
      "('inst_libraries', 'AL2021')\n",
      "(nan, 'DRVAL2021')\n"
     ]
    }
   ],
   "source": [
    "data_tables = list(zip(df_dictionary.TIM7020TableName, df_dictionary.TableName))\n",
    "for x in data_tables:\n",
    "    print(x)"
   ]
  },
  {
   "cell_type": "code",
   "execution_count": null,
   "metadata": {},
   "outputs": [],
   "source": [
    "# import openai\n",
    "\n",
    "# openai.api_key = os.getenv(\"OPENAI_API_KEY\")\n",
    "\n",
    "# response = openai.ChatCompletion.create(\n",
    "#   model=\"gpt-3.5-turbo\",\n",
    "#   messages=[],\n",
    "#   temperature=0,\n",
    "#   max_tokens=1024\n",
    "# )"
   ]
  }
 ],
 "metadata": {
  "kernelspec": {
   "display_name": "CSSenv",
   "language": "python",
   "name": "python3"
  },
  "language_info": {
   "codemirror_mode": {
    "name": "ipython",
    "version": 3
   },
   "file_extension": ".py",
   "mimetype": "text/x-python",
   "name": "python",
   "nbconvert_exporter": "python",
   "pygments_lexer": "ipython3",
   "version": "3.11.4"
  },
  "orig_nbformat": 4
 },
 "nbformat": 4,
 "nbformat_minor": 2
}
